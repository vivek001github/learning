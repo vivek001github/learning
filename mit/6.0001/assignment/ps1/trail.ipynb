{
 "cells": [
  {
   "cell_type": "code",
   "execution_count": 12,
   "metadata": {},
   "outputs": [
    {
     "name": "stdout",
     "output_type": "stream",
     "text": [
      "Best savings rate: 0.4411\n",
      "\n"
     ]
    }
   ],
   "source": [
    "annual_salary = 150000\n",
    "total_cost = 1000000\n",
    "portion_down_payment = 0.25 * total_cost\n",
    "r = 0.04\n",
    "semi_annual_raise = 0.07\n",
    "months = 36  \n",
    "\n",
    "low = 0\n",
    "high = 100\n",
    "epsilon = 0.01\n",
    "\n",
    "while True:\n",
    "    portion_saved = (low + high) / 2\n",
    "    current_savings = 0\n",
    "    updated_salary = annual_salary\n",
    "\n",
    "    for month in range(months):\n",
    "        portion_salary_saved = updated_salary / 12 * portion_saved\n",
    "        monthly_portion_saved = current_savings * r / 12\n",
    "        current_savings += monthly_portion_saved + portion_salary_saved\n",
    "\n",
    "        if month % 6 == 5:\n",
    "            updated_salary += updated_salary * semi_annual_raise\n",
    "\n",
    "    if abs(current_savings - portion_down_payment) < epsilon:\n",
    "        break\n",
    "    elif current_savings < portion_down_payment:\n",
    "        low = portion_saved\n",
    "    else:\n",
    "        high = portion_saved\n",
    "\n",
    "print(\"Best savings rate:\", round(portion_saved, 4))\n",
    "print()\n"
   ]
  },
  {
   "cell_type": "code",
   "execution_count": 2,
   "metadata": {},
   "outputs": [
    {
     "name": "stdout",
     "output_type": "stream",
     "text": [
      "Best savings rate: 0.4411\n",
      "Steps in bisection search: 23\n"
     ]
    }
   ],
   "source": [
    "starting_salary = 150000\n",
    "total_cost = 1000000\n",
    "down_payment = 0.25 * total_cost\n",
    "semi_annual_raise = 0.07\n",
    "annual_return = 0.04\n",
    "monthly_return = annual_return / 12\n",
    "months = 36\n",
    "\n",
    "low = 0\n",
    "high = 1\n",
    "epsilon = 0.01\n",
    "steps = 0\n",
    "\n",
    "while True:\n",
    "    steps += 1\n",
    "    portion_saved = (low + high) / 2 \n",
    "    current_savings, updated_salary = 0, starting_salary\n",
    "\n",
    "    for month in range(months):\n",
    "        current_savings += updated_salary / 12 * portion_saved + current_savings * monthly_return\n",
    "        if month % 6 == 5:\n",
    "            updated_salary += updated_salary * semi_annual_raise\n",
    "\n",
    "    if abs(current_savings - down_payment) < epsilon:\n",
    "        break\n",
    "    elif current_savings < down_payment:\n",
    "        low = portion_saved \n",
    "    else:\n",
    "        high = portion_saved \n",
    "\n",
    "print(\"Best savings rate:\", round(portion_saved, 4))\n",
    "print(\"Steps in bisection search:\", steps)\n"
   ]
  },
  {
   "cell_type": "code",
   "execution_count": null,
   "metadata": {},
   "outputs": [],
   "source": [
    "starting_salary = 150000\n",
    "total_cost = 1000000\n",
    "down_payment = 0.25 * total_cost\n",
    "semi_annual_raise = 0.07\n",
    "annual_return = 0.04\n",
    "monthly_return = annual_return / 12\n",
    "months = 36\n",
    "\n",
    "epsilon = 0.01\n",
    "num_guesses = 0\n",
    "low = 0\n",
    "high = 100\n",
    "guess =(high + low)/2\n",
    "while abs(guess**8 - total_cost) >=epsilon:\n",
    "    if guess**8<total_cost :\n",
    "        low = guess\n",
    "    else:\n",
    "        high = guess\n",
    "        guess = (high + low)/2\n",
    "        num_guesses +=1\n",
    "    print( 'num_guesses =',num_guesses)\n",
    "    print(guess, 'is close to the total_cost of', total_cost)"
   ]
  },
  {
   "cell_type": "code",
   "execution_count": 7,
   "metadata": {},
   "outputs": [],
   "source": [
    "total_cost = 1000000\n",
    "down_payment_percentage = 0.25\n",
    "semi_annual_raise = 0.07\n",
    "annual_return = 0.04\n",
    "down_payment_= 1000000 * 0.25\n",
    "months = 36\n",
    "\n",
    "low = 0\n",
    "high = 100\n",
    "steps = 0\n",
    "\n",
    "while low <=high:\n",
    "\n",
    "    mid= (low + high)//2\n",
    "    saving_rate = mid/100\n",
    "    current_savings = 0\n",
    "\n",
    "    for month in range( month ):\n",
    "        monthly_salary = annual_salary /12\n",
    "        current_savings += current_savings *(annual_return / 12) + monthly_salary *saving_rate\n",
    "    \n",
    "        if month % 6 ==0:\n",
    "            annual_salary += annual_salary * semi_annual_raise\n",
    "\n",
    "        if abs(current_savings - portion_down_payment) <= epsilon:\n",
    "            break\n",
    "\n",
    "        if current_savings < portion_down_payment:\n",
    "            low = mid + 1\n",
    "        else:\n",
    "            high = mid - 1\n",
    "print(f\"Best saving rate : {saving_rate:.4f}\")\n",
    "print(f\"steps in bisection search:{steps}\")\n",
    "\n"
   ]
  },
  {
   "cell_type": "code",
   "execution_count": null,
   "metadata": {},
   "outputs": [],
   "source": [
    "once = \"umbr\"\n",
    "repeat = \"ella\"\n",
    "u = once + (repeat + \"\")*4"
   ]
  },
  {
   "cell_type": "code",
   "execution_count": null,
   "metadata": {},
   "outputs": [],
   "source": []
  }
 ],
 "metadata": {
  "kernelspec": {
   "display_name": "Python 3",
   "language": "python",
   "name": "python3"
  },
  "language_info": {
   "codemirror_mode": {
    "name": "ipython",
    "version": 3
   },
   "file_extension": ".py",
   "mimetype": "text/x-python",
   "name": "python",
   "nbconvert_exporter": "python",
   "pygments_lexer": "ipython3",
   "version": "3.10.12"
  }
 },
 "nbformat": 4,
 "nbformat_minor": 2
}
