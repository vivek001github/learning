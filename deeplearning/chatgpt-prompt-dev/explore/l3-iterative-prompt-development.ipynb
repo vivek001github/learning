{
 "cells": [
  {
   "cell_type": "markdown",
   "id": "b97ddf3b-d921-4169-9d82-b0ee95e9eccd",
   "metadata": {},
   "source": [
    "# Iterative Prompt Development\n",
    "In this lesson, you'll iteratively analyze and refine your prompts to generate marketing copy from a product fact sheet.\n",
    "\n",
    "## Setup"
   ]
  },
  {
   "cell_type": "code",
   "execution_count": 27,
   "id": "2800e646",
   "metadata": {
    "tags": []
   },
   "outputs": [],
   "source": [
    "import os\n",
    "from dotenv import load_dotenv, find_dotenv\n",
    "import requests\n",
    "\n",
    "# Load environment variables from .env file\n",
    "_ = load_dotenv(find_dotenv())\n",
    "\n",
    "# Set the API key\n",
    "api_key = os.environ['GOOGLE_API_KEY']"
   ]
  },
  {
   "cell_type": "code",
   "execution_count": 28,
   "id": "9fb6f2de",
   "metadata": {
    "tags": []
   },
   "outputs": [],
   "source": [
    "def get_completion(prompt):\n",
    "    # Set the API endpoint\n",
    "    endpoint = \"https://generativelanguage.googleapis.com/v1beta\"\n",
    "    # Prepare the request body\n",
    "    request_body = {\n",
    "        \"contents\": [\n",
    "            {\n",
    "                \"parts\": [\n",
    "                    {\n",
    "                        \"text\": prompt\n",
    "                    }\n",
    "                ]\n",
    "            }\n",
    "        ]\n",
    "    }\n",
    "\n",
    "    # Make the request to Generative Language API\n",
    "    response = requests.post(\n",
    "        f\"{endpoint}/models/gemini-pro:generateContent?key={api_key}\",\n",
    "        json=request_body,\n",
    "    )\n",
    "    return response.json()['candidates'][0]['content']['parts'][0]['text']"
   ]
  },
  {
   "cell_type": "markdown",
   "id": "ffc2b32f-73da-4ef0-81f6-0c7bff70783d",
   "metadata": {},
   "source": [
    "**Note**: In June 2023, OpenAI updated gpt-3.5-turbo. The results you see in the notebook may be slightly different than those in the video. Some of the prompts have also been slightly modified to product the desired results."
   ]
  },
  {
   "cell_type": "markdown",
   "id": "71d1a1df-03c3-4f38-af6d-3962362f3dcd",
   "metadata": {},
   "source": [
    "## Generate a marketing product description from a product fact sheet"
   ]
  },
  {
   "cell_type": "code",
   "execution_count": 29,
   "id": "5be90e47",
   "metadata": {
    "tags": []
   },
   "outputs": [],
   "source": [
    "fact_sheet_chair = \"\"\"\n",
    "OVERVIEW\n",
    "- Part of a beautiful family of mid-century inspired office furniture, \n",
    "including filing cabinets, desks, bookcases, meeting tables, and more.\n",
    "- Several options of shell color and base finishes.\n",
    "- Available with plastic back and front upholstery (SWC-100) \n",
    "or full upholstery (SWC-110) in 10 fabric and 6 leather options.\n",
    "- Base finish options are: stainless steel, matte black, \n",
    "gloss white, or chrome.\n",
    "- Chair is available with or without armrests.\n",
    "- Suitable for home or business settings.\n",
    "- Qualified for contract use.\n",
    "\n",
    "CONSTRUCTION\n",
    "- 5-wheel plastic coated aluminum base.\n",
    "- Pneumatic chair adjust for easy raise/lower action.\n",
    "\n",
    "DIMENSIONS\n",
    "- WIDTH 53 CM | 20.87”\n",
    "- DEPTH 51 CM | 20.08”\n",
    "- HEIGHT 80 CM | 31.50”\n",
    "- SEAT HEIGHT 44 CM | 17.32”\n",
    "- SEAT DEPTH 41 CM | 16.14”\n",
    "\n",
    "OPTIONS\n",
    "- Soft or hard-floor caster options.\n",
    "- Two choices of seat foam densities: \n",
    " medium (1.8 lb/ft3) or high (2.8 lb/ft3)\n",
    "- Armless or 8 position PU armrests \n",
    "\n",
    "MATERIALS\n",
    "SHELL BASE GLIDER\n",
    "- Cast Aluminum with modified nylon PA6/PA66 coating.\n",
    "- Shell thickness: 10 mm.\n",
    "SEAT\n",
    "- HD36 foam\n",
    "\n",
    "COUNTRY OF ORIGIN\n",
    "- Italy\n",
    "\"\"\""
   ]
  },
  {
   "cell_type": "code",
   "execution_count": 19,
   "id": "4f656d0c",
   "metadata": {
    "tags": []
   },
   "outputs": [
    {
     "name": "stdout",
     "output_type": "stream",
     "text": [
      "Step into the world of mid-century modernity with our exquisite SWC swivel chair. This versatile piece seamlessly blends style and functionality, making it an ideal choice for both home and business environments.\n",
      "\n",
      "Crafted with precision in Italy, the SWC chair boasts a durable aluminum base finished in your choice of stainless steel, matte black, gloss white, or chrome. Its sturdy construction ensures exceptional stability, while the plastic-coated casters provide smooth mobility without damaging your floors.\n",
      "\n",
      "Customize the chair to your exact preferences with a range of upholstery options. Choose from 10 fabric and 6 leather options to match your décor and personal taste. The plastic back and front upholstery provides a sleek and easy-to-clean surface, while the full upholstery offers added comfort and a touch of luxury.\n",
      "\n",
      "The SWC chair is designed for optimal comfort, featuring a pneumatic chair adjust for effortless height adjustment. Its generous seat depth and medium-density foam ensure support throughout the day. Opt for the high-density foam option for enhanced support during extended periods of sitting.\n",
      "\n",
      "Whether you need a stylish addition to your home office or a practical solution for your business, the SWC swivel chair delivers both form and function in equal measure.\n"
     ]
    }
   ],
   "source": [
    "prompt = f\"\"\"\n",
    "Your task is to help a marketing team create a \n",
    "description for a retail website of a product based \n",
    "on a technical fact sheet.\n",
    "\n",
    "Write a product description based on the information \n",
    "provided in the technical specifications delimited by \n",
    "triple backticks.\n",
    "\n",
    "Technical specifications: ```{fact_sheet_chair}```\n",
    "\"\"\"\n",
    "response = get_completion(prompt)\n",
    "print(response)\n"
   ]
  },
  {
   "cell_type": "markdown",
   "id": "e1361d6f-6022-4b7a-8107-b2e2ff5efd32",
   "metadata": {},
   "source": [
    "## Issue 1: The text is too long \n",
    "- Limit the number of words/sentences/characters."
   ]
  },
  {
   "cell_type": "code",
   "execution_count": 20,
   "id": "f6129532",
   "metadata": {
    "tags": []
   },
   "outputs": [
    {
     "name": "stdout",
     "output_type": "stream",
     "text": [
      "Indulge in mid-century style with this versatile office chair. Customizable with color options, upholstery, and armrests, it adapts seamlessly to any space. Its durable construction and adjustable features ensure comfort and functionality.\n"
     ]
    }
   ],
   "source": [
    "prompt = f\"\"\"\n",
    "Your task is to help a marketing team create a \n",
    "description for a retail website of a product based \n",
    "on a technical fact sheet.\n",
    "\n",
    "Write a product description based on the information \n",
    "provided in the technical specifications delimited by \n",
    "triple backticks.\n",
    "\n",
    "Use at most 50 words.\n",
    "\n",
    "Technical specifications: ```{fact_sheet_chair}```\n",
    "\"\"\"\n",
    "response = get_completion(prompt)\n",
    "print(response)\n"
   ]
  },
  {
   "cell_type": "code",
   "execution_count": 21,
   "id": "17f658d0",
   "metadata": {
    "tags": []
   },
   "outputs": [
    {
     "data": {
      "text/plain": [
       "32"
      ]
     },
     "execution_count": 21,
     "metadata": {},
     "output_type": "execute_result"
    }
   ],
   "source": [
    "len(response.split())"
   ]
  },
  {
   "cell_type": "markdown",
   "id": "a6de9c92-857c-4d1c-8fd1-192cf47c4763",
   "metadata": {},
   "source": [
    "## Issue 2. Text focuses on the wrong details\n",
    "- Ask it to focus on the aspects that are relevant to the intended audience."
   ]
  },
  {
   "cell_type": "code",
   "execution_count": 22,
   "id": "954a8a06",
   "metadata": {
    "tags": []
   },
   "outputs": [
    {
     "name": "stdout",
     "output_type": "stream",
     "text": [
      "This stylish desk chair offers a sturdy build with a 5-wheel plastic coated aluminum base and cast aluminum shell. The shell boasts a 10 mm thickness and is coated with a durable nylon PA6/PA66 finish. The seat is constructed from high-density HD36 foam for optimal comfort.\n"
     ]
    }
   ],
   "source": [
    "prompt = f\"\"\"\n",
    "Your task is to help a marketing team create a \n",
    "description for a retail website of a product based \n",
    "on a technical fact sheet.\n",
    "\n",
    "Write a product description based on the information \n",
    "provided in the technical specifications delimited by \n",
    "triple backticks.\n",
    "\n",
    "The description is intended for furniture retailers, \n",
    "so should be technical in nature and focus on the \n",
    "materials the product is constructed from.\n",
    "\n",
    "Use at most 50 words.\n",
    "\n",
    "Technical specifications: ```{fact_sheet_chair}```\n",
    "\"\"\"\n",
    "response = get_completion(prompt)\n",
    "print(response)"
   ]
  },
  {
   "cell_type": "code",
   "execution_count": 23,
   "id": "e9455d58",
   "metadata": {
    "tags": []
   },
   "outputs": [
    {
     "name": "stdout",
     "output_type": "stream",
     "text": [
      "Sturdy office chair with a 5-wheel plastic coated aluminum base and a pneumatic chair adjustment. The shell base glider is made of cast aluminum with a modified nylon PA6/PA66 coating and a thickness of 10 mm. The seat is made of HD36 foam.\n",
      "\n",
      "Product IDs: SWC-100, SWC-110\n"
     ]
    }
   ],
   "source": [
    "prompt = f\"\"\"\n",
    "Your task is to help a marketing team create a \n",
    "description for a retail website of a product based \n",
    "on a technical fact sheet.\n",
    "\n",
    "Write a product description based on the information \n",
    "provided in the technical specifications delimited by \n",
    "triple backticks.\n",
    "\n",
    "The description is intended for furniture retailers, \n",
    "so should be technical in nature and focus on the \n",
    "materials the product is constructed from.\n",
    "\n",
    "At the end of the description, include every 7-character \n",
    "Product ID in the technical specification.\n",
    "\n",
    "Use at most 50 words.\n",
    "\n",
    "Technical specifications: ```{fact_sheet_chair}```\n",
    "\"\"\"\n",
    "response = get_completion(prompt)\n",
    "print(response)"
   ]
  },
  {
   "cell_type": "markdown",
   "id": "5be496d5-54c9-443b-8116-0b3d3d9dc560",
   "metadata": {},
   "source": [
    "## Issue 3. Description needs a table of dimensions\n",
    "- Ask it to extract information and organize it in a table."
   ]
  },
  {
   "cell_type": "code",
   "execution_count": 24,
   "id": "0384f1e4",
   "metadata": {
    "tags": []
   },
   "outputs": [
    {
     "name": "stdout",
     "output_type": "stream",
     "text": [
      "<div>\n",
      "<h1>SWC-100/110</h1>\n",
      "\n",
      "<h2>Mid-Century Modern Office Chair</h2>\n",
      "\n",
      "<p>Inspired by mid-century design, this chair is not only stylish but also functional. Its sturdy construction and comfortable seat make it ideal for both home and business settings.</p>\n",
      "\n",
      "<h3>Construction</h3>\n",
      "\n",
      "<ul>\n",
      "  <li>5-wheel plastic coated aluminum base</li>\n",
      "  <li>Pneumatic chair adjust for easy raise/lower action</li>\n",
      "  <li>Cast Aluminum Shell coated in modified nylon PA6/PA66</li>\n",
      "  <li>Shell thickness: 10 mm</li>\n",
      "  <li>HD36 foam seat</li>\n",
      "</ul>\n",
      "\n",
      "<p>This product is available in a variety of configurations to match your needs, including:</p>\n",
      "\n",
      "<ul>\n",
      "  <li>Plastic back and front upholstery (SWC-100)</li>\n",
      "  <li>Full upholstery (SWC-110)</li>\n",
      "  <li>Stainless steel, matte black, gloss white, or chrome base finish</li>\n",
      "  <li>Armless or 8-position PU armrests</li>\n",
      "  <li>Soft or hard-floor caster options</li>\n",
      "  <li>Two seat foam densities (1.8 lb/ft³ or 2.8 lb/ft³)</li>\n",
      "</ul>\n",
      "\n",
      "<h3>Product ID: SWC-100, SWC-110</h3>\n",
      "</div>\n",
      "\n",
      "<table style=\"width: 100%;\">\n",
      "<caption>Product Dimensions</caption>\n",
      "<tr>\n",
      "  <th>Dimension</th>\n",
      "  <th>Inches</th>\n",
      "</tr>\n",
      "<tr>\n",
      "  <td>Width</td>\n",
      "  <td>20.87</td>\n",
      "</tr>\n",
      "<tr>\n",
      "  <td>Depth</td>\n",
      "  <td>20.08</td>\n",
      "</tr>\n",
      "<tr>\n",
      "  <td>Height</td>\n",
      "  <td>31.50</td>\n",
      "</tr>\n",
      "<tr>\n",
      "  <td>Seat Height</td>\n",
      "  <td>17.32</td>\n",
      "</tr>\n",
      "<tr>\n",
      "  <td>Seat Depth</td>\n",
      "  <td>16.14</td>\n",
      "</tr>\n",
      "</table>\n"
     ]
    }
   ],
   "source": [
    "prompt = f\"\"\"\n",
    "Your task is to help a marketing team create a \n",
    "description for a retail website of a product based \n",
    "on a technical fact sheet.\n",
    "\n",
    "Write a product description based on the information \n",
    "provided in the technical specifications delimited by \n",
    "triple backticks.\n",
    "\n",
    "The description is intended for furniture retailers, \n",
    "so should be technical in nature and focus on the \n",
    "materials the product is constructed from.\n",
    "\n",
    "At the end of the description, include every 7-character \n",
    "Product ID in the technical specification.\n",
    "\n",
    "After the description, include a table that gives the \n",
    "product's dimensions. The table should have two columns.\n",
    "In the first column include the name of the dimension. \n",
    "In the second column include the measurements in inches only.\n",
    "\n",
    "Give the table the title 'Product Dimensions'.\n",
    "\n",
    "Format everything as HTML that can be used in a website. \n",
    "Place the description in a <div> element.\n",
    "\n",
    "Technical specifications: ```{fact_sheet_chair}```\n",
    "\"\"\"\n",
    "\n",
    "response = get_completion(prompt)\n",
    "print(response)"
   ]
  },
  {
   "cell_type": "markdown",
   "id": "d681db67-6d59-40c1-a36b-4d76729a690d",
   "metadata": {},
   "source": [
    "## Load Python libraries to view HTML"
   ]
  },
  {
   "cell_type": "code",
   "execution_count": 25,
   "id": "73ff0052",
   "metadata": {
    "tags": []
   },
   "outputs": [],
   "source": [
    "from IPython.display import display, HTML"
   ]
  },
  {
   "cell_type": "code",
   "execution_count": 26,
   "id": "3465ffce",
   "metadata": {
    "tags": []
   },
   "outputs": [
    {
     "data": {
      "text/html": [
       "<div>\n",
       "<h1>SWC-100/110</h1>\n",
       "\n",
       "<h2>Mid-Century Modern Office Chair</h2>\n",
       "\n",
       "<p>Inspired by mid-century design, this chair is not only stylish but also functional. Its sturdy construction and comfortable seat make it ideal for both home and business settings.</p>\n",
       "\n",
       "<h3>Construction</h3>\n",
       "\n",
       "<ul>\n",
       "  <li>5-wheel plastic coated aluminum base</li>\n",
       "  <li>Pneumatic chair adjust for easy raise/lower action</li>\n",
       "  <li>Cast Aluminum Shell coated in modified nylon PA6/PA66</li>\n",
       "  <li>Shell thickness: 10 mm</li>\n",
       "  <li>HD36 foam seat</li>\n",
       "</ul>\n",
       "\n",
       "<p>This product is available in a variety of configurations to match your needs, including:</p>\n",
       "\n",
       "<ul>\n",
       "  <li>Plastic back and front upholstery (SWC-100)</li>\n",
       "  <li>Full upholstery (SWC-110)</li>\n",
       "  <li>Stainless steel, matte black, gloss white, or chrome base finish</li>\n",
       "  <li>Armless or 8-position PU armrests</li>\n",
       "  <li>Soft or hard-floor caster options</li>\n",
       "  <li>Two seat foam densities (1.8 lb/ft³ or 2.8 lb/ft³)</li>\n",
       "</ul>\n",
       "\n",
       "<h3>Product ID: SWC-100, SWC-110</h3>\n",
       "</div>\n",
       "\n",
       "<table style=\"width: 100%;\">\n",
       "<caption>Product Dimensions</caption>\n",
       "<tr>\n",
       "  <th>Dimension</th>\n",
       "  <th>Inches</th>\n",
       "</tr>\n",
       "<tr>\n",
       "  <td>Width</td>\n",
       "  <td>20.87</td>\n",
       "</tr>\n",
       "<tr>\n",
       "  <td>Depth</td>\n",
       "  <td>20.08</td>\n",
       "</tr>\n",
       "<tr>\n",
       "  <td>Height</td>\n",
       "  <td>31.50</td>\n",
       "</tr>\n",
       "<tr>\n",
       "  <td>Seat Height</td>\n",
       "  <td>17.32</td>\n",
       "</tr>\n",
       "<tr>\n",
       "  <td>Seat Depth</td>\n",
       "  <td>16.14</td>\n",
       "</tr>\n",
       "</table>"
      ],
      "text/plain": [
       "<IPython.core.display.HTML object>"
      ]
     },
     "metadata": {},
     "output_type": "display_data"
    }
   ],
   "source": [
    "display(HTML(response))"
   ]
  },
  {
   "cell_type": "markdown",
   "id": "8ed02a02-9e12-4f63-97bd-f52064b18666",
   "metadata": {},
   "source": [
    "## Try experimenting on your own!"
   ]
  },
  {
   "cell_type": "code",
   "execution_count": null,
   "id": "dbe1f850",
   "metadata": {},
   "outputs": [],
   "source": []
  }
 ],
 "metadata": {
  "kernelspec": {
   "display_name": "Python 3 (ipykernel)",
   "language": "python",
   "name": "python3"
  },
  "language_info": {
   "codemirror_mode": {
    "name": "ipython",
    "version": 3
   },
   "file_extension": ".py",
   "mimetype": "text/x-python",
   "name": "python",
   "nbconvert_exporter": "python",
   "pygments_lexer": "ipython3",
   "version": "3.10.12"
  }
 },
 "nbformat": 4,
 "nbformat_minor": 5
}
